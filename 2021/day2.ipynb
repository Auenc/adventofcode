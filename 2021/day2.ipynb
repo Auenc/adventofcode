{
 "cells": [
  {
   "cell_type": "code",
   "execution_count": 7,
   "metadata": {},
   "outputs": [],
   "source": [
    "with open(\"day2.txt\", \"r\") as input_file:\n",
    "    input_raw = input_file.read()\n",
    "\n",
    "input_lines = input_raw.split('\\n')\n",
    "\n",
    "input = [(parts[0], int(parts[1])) for parts in (line.split(' ') for line in input_lines)]"
   ]
  },
  {
   "cell_type": "code",
   "execution_count": 12,
   "metadata": {},
   "outputs": [
    {
     "name": "stdout",
     "output_type": "stream",
     "text": [
      "Depth:  861\n",
      "Horizontal:  1940\n",
      "Multiplied 1670340\n"
     ]
    }
   ],
   "source": [
    "depth = 0\n",
    "horizontal = 0\n",
    "\n",
    "def move_forward(x):\n",
    "    global horizontal\n",
    "    horizontal += x\n",
    "\n",
    "def move_down(x):\n",
    "    global depth\n",
    "    depth += x\n",
    "\n",
    "def move_up(x):\n",
    "    global depth\n",
    "    depth -= x\n",
    "\n",
    "def do_move(input):\n",
    "    (action, amount) = input\n",
    "    if action == \"forward\":\n",
    "        return move_forward(amount)\n",
    "    if action == \"down\":\n",
    "        return move_down(amount)\n",
    "    if action == \"up\":\n",
    "        return move_up(amount)\n",
    "    raise Exception(\"invalid action\")\n",
    "\n",
    "for x in input:\n",
    "    do_move(x)\n",
    "\n",
    "print(\"Depth: \", depth)\n",
    "print(\"Horizontal: \", horizontal)\n",
    "print(\"Multiplied\", depth * horizontal)"
   ]
  },
  {
   "cell_type": "code",
   "execution_count": 15,
   "metadata": {},
   "outputs": [
    {
     "name": "stdout",
     "output_type": "stream",
     "text": [
      "Depth:  60\n",
      "Horizontal:  15\n",
      "Multiplied 900\n"
     ]
    }
   ],
   "source": [
    "depth = 0\n",
    "horizontal = 0\n",
    "aim = 0\n",
    "\n",
    "example_input = [\n",
    "    (\"forward\", 5),\n",
    "    (\"down\", 5),\n",
    "    (\"forward\", 8),\n",
    "    (\"up\", 3),\n",
    "    (\"down\", 8),\n",
    "    (\"forward\", 2),\n",
    "]\n",
    "\n",
    "def move_forward2(x):\n",
    "    global horizontal\n",
    "    global depth\n",
    "    horizontal += x\n",
    "    depth += aim * x\n",
    "\n",
    "def move_down2(x):\n",
    "    global aim\n",
    "    aim += x\n",
    "\n",
    "def move_up2(x):\n",
    "    global aim\n",
    "    aim -= x\n",
    "\n",
    "def do_move2(input):\n",
    "    (action, amount) = input\n",
    "    if action == \"forward\":\n",
    "        return move_forward2(amount)\n",
    "    if action == \"down\":\n",
    "        return move_down2(amount)\n",
    "    if action == \"up\":\n",
    "        return move_up2(amount)\n",
    "    raise Exception(\"invalid action\")\n",
    "\n",
    "for x in input:\n",
    "    do_move2(x)\n",
    "\n",
    "print(\"Depth: \", depth)\n",
    "print(\"Horizontal: \", horizontal)\n",
    "print(\"Multiplied\", depth * horizontal)"
   ]
  }
 ],
 "metadata": {
  "interpreter": {
   "hash": "4cb846fa0746565b63f59de2953b23d7ed3f732d135c4180a8d69bdcb9730423"
  },
  "kernelspec": {
   "display_name": "Python 3.8.10 64-bit ('base': conda)",
   "language": "python",
   "name": "python3"
  },
  "language_info": {
   "codemirror_mode": {
    "name": "ipython",
    "version": 3
   },
   "file_extension": ".py",
   "mimetype": "text/x-python",
   "name": "python",
   "nbconvert_exporter": "python",
   "pygments_lexer": "ipython3",
   "version": "3.8.10"
  },
  "orig_nbformat": 4
 },
 "nbformat": 4,
 "nbformat_minor": 2
}
