{
 "cells": [
  {
   "cell_type": "code",
   "execution_count": 15,
   "metadata": {},
   "outputs": [],
   "source": [
    "from typing import List\n",
    "from typing import Tuple\n",
    "\n",
    "def parse_board_input(list: List[str], num_rows=5) -> List[List[List[int]]]:\n",
    "    boards: List[List[int]] = []\n",
    "    cur_board = 0\n",
    "    for row in list:\n",
    "        if len(boards) == cur_board:\n",
    "            boards.append([])\n",
    "        if row == \"\":\n",
    "            continue\n",
    "        boards[cur_board].append([int(x) for x in row.split(\" \") if x != \"\"])\n",
    "        if len(boards[cur_board]) == num_rows:\n",
    "            cur_board += 1\n",
    "    return boards"
   ]
  },
  {
   "cell_type": "code",
   "execution_count": 16,
   "metadata": {},
   "outputs": [
    {
     "name": "stdout",
     "output_type": "stream",
     "text": [
      "[7, 4, 9, 5, 11, 17, 23, 2, 0, 14, 21, 24, 10, 16, 13, 6, 15, 25, 12, 22, 18, 20, 8, 19, 3, 26, 1]\n"
     ]
    }
   ],
   "source": [
    "with open(\"example_boards.txt\", \"r\") as input_file:\n",
    "    input_raw = input_file.read()\n",
    "\n",
    "lines = input_raw.splitlines()\n",
    "example_boards = parse_board_input(lines)\n",
    "\n",
    "with open(\"example_draws.txt\", \"r\") as input_file:\n",
    "    example_draws = [int(x) for x in input_file.read().split(\",\")]\n",
    "print(example_draws)"
   ]
  },
  {
   "cell_type": "code",
   "execution_count": 17,
   "metadata": {},
   "outputs": [],
   "source": [
    "class BingoNumber():\n",
    "    value: int\n",
    "    marked: bool = False\n",
    "    def __init__(self, value: int):\n",
    "        self.value = value\n",
    "    def __str__(self) -> str:\n",
    "        string = str(self.value)\n",
    "        if self.marked:\n",
    "            string = \"~\" + str(self.value) +\"~\"\n",
    "        return string\n",
    "\n",
    "class BingoBoard():\n",
    "    rows: List[List[BingoNumber]]\n",
    "    won: bool\n",
    "    board_num: int\n",
    "    def __init__(self, board: List[List[int]], board_num: int):\n",
    "        self.rows = []\n",
    "        self.won = False\n",
    "        self.board_num = board_num\n",
    "        for row in board:\n",
    "            brow = []\n",
    "            for num in row:\n",
    "                brow.append(BingoNumber(num))\n",
    "            self.rows.append(brow)\n",
    "        \n",
    "    def draw(self, num: int) -> None:\n",
    "        for row in self.rows:\n",
    "            for x in row:\n",
    "                if x.value == num and not self.won:\n",
    "                    x.marked = True\n",
    "\n",
    "    def check_rows(self) -> bool:\n",
    "        if self.won:\n",
    "            return False\n",
    "        for row in self.rows:\n",
    "            found_false = False\n",
    "            for x in row:\n",
    "                if not x.marked:\n",
    "                    found_false = True\n",
    "            if not found_false:\n",
    "                return True\n",
    "        return False\n",
    "\n",
    "    def check_columns(self) -> bool:\n",
    "        if self.won:\n",
    "            return False\n",
    "        for c in range(5):\n",
    "            found_false = False\n",
    "            for row in self.rows:\n",
    "                if not row[c].marked:\n",
    "                    found_false = True\n",
    "            if not found_false:\n",
    "                return True\n",
    "        return False\n",
    "\n",
    "    def check(self) -> bool:\n",
    "        return self.check_rows() or self.check_columns()\n",
    "    \n",
    "    def sum_unmarked(self) -> int:\n",
    "        sum = 0\n",
    "        for row in self.rows:\n",
    "            for x in row:\n",
    "                if not x.marked:\n",
    "                    sum += x.value\n",
    "        return sum\n",
    "\n",
    "    def score(self, winning_draw: int) -> int:\n",
    "        sum = self.sum_unmarked()\n",
    "        return sum * winning_draw\n",
    "    \n",
    "    def reset(self) -> None:\n",
    "        self.won = False\n",
    "        for row in self.rows:\n",
    "            for x in row:\n",
    "                x.marked = False\n",
    "\n",
    "    def __str__(self) -> str:\n",
    "        string = \"\"\n",
    "        for row in self.rows:\n",
    "            string += \"[\"\n",
    "            i = 0\n",
    "            for num in row:\n",
    "                string += str(num)\n",
    "                if i != len(row)-1:\n",
    "                    string += '\\t'\n",
    "                i += 1\n",
    "            string +=  \"],\\n\"\n",
    "        return string\n",
    "\n",
    "def create_boards(d: List[List[List[int]]]) -> List[BingoBoard]:\n",
    "    board_num = 1\n",
    "    boards = []\n",
    "    for b in d:\n",
    "        boards.append(BingoBoard(b, board_num))\n",
    "        board_num += 1\n",
    "    return boards"
   ]
  },
  {
   "cell_type": "code",
   "execution_count": 18,
   "metadata": {},
   "outputs": [],
   "source": [
    "def draw_pos(boards: List[BingoBoard], draws: List[int], pos: int) -> Tuple[BingoBoard, int]:\n",
    "    won: Tuple[BingoBoard, int] = None\n",
    "    for board in boards:\n",
    "        board.draw(draws[pos])\n",
    "        if not board.won and board.check():\n",
    "            board.won = True\n",
    "            won = (board, draws[pos])\n",
    "    return won\n",
    "\n",
    "def draw_n_pos(boards: List[BingoBoard], draws: List[int], n: int) -> List[Tuple[BingoBoard, int]]:\n",
    "    winners = []\n",
    "    reset_boards(boards)\n",
    "    for x in range(n):\n",
    "        winner = draw_pos(boards, draws, x)\n",
    "        if winner:\n",
    "            winners.append((winner[0], winner[0].score(winner[1])))\n",
    "    return winners\n",
    "\n",
    "def print_boards(boards: List[BingoBoard]) -> None:\n",
    "    for b in boards:\n",
    "        print(b)\n",
    "\n",
    "def find_first_winner(boards: List[BingoBoard], draws: List[int]) -> Tuple[BingoBoard, int]:\n",
    "    return draw_n_pos(boards, draws, len(draws))[0]\n",
    "\n",
    "def find_last_winner(boards: List[BingoBoard], draws: List[int]) -> Tuple[BingoBoard, int]:\n",
    "    return draw_n_pos(boards, draws, len(draws))[-1]\n",
    "    \n",
    "def reset_boards(boards: List[BingoBoard]) -> None:\n",
    "    for board in boards:\n",
    "        board.reset()"
   ]
  },
  {
   "cell_type": "code",
   "execution_count": 19,
   "metadata": {},
   "outputs": [
    {
     "name": "stdout",
     "output_type": "stream",
     "text": [
      "4512\n",
      "1924\n"
     ]
    }
   ],
   "source": [
    "boards = create_boards(example_boards)\n",
    "winner = find_first_winner(boards, example_draws)\n",
    "print(winner[1])\n",
    "\n",
    "last_winner = find_last_winner(boards, example_draws)\n",
    "print(last_winner[1])\n"
   ]
  },
  {
   "cell_type": "code",
   "execution_count": 20,
   "metadata": {},
   "outputs": [],
   "source": [
    "with open(\"input_boards.txt\", \"r\") as input_file:\n",
    "    input_raw = input_file.read()\n",
    "\n",
    "lines = input_raw.splitlines()\n",
    "input_boards = parse_board_input(lines)\n",
    "\n",
    "with open(\"input_draws.txt\", \"r\") as input_file:\n",
    "    input_draws = [int(x) for x in input_file.read().split(\",\")]"
   ]
  },
  {
   "cell_type": "code",
   "execution_count": 23,
   "metadata": {},
   "outputs": [
    {
     "name": "stdout",
     "output_type": "stream",
     "text": [
      "2496\n",
      "25925\n"
     ]
    }
   ],
   "source": [
    "boards = create_boards(input_boards)\n",
    "winner = find_first_winner(boards, input_draws)\n",
    "print(winner[1])\n",
    "\n",
    "last_winner = find_last_winner(boards, input_draws)\n",
    "print(last_winner[1])"
   ]
  }
 ],
 "metadata": {
  "interpreter": {
   "hash": "4cb846fa0746565b63f59de2953b23d7ed3f732d135c4180a8d69bdcb9730423"
  },
  "kernelspec": {
   "display_name": "Python 3.8.10 64-bit ('base': conda)",
   "language": "python",
   "name": "python3"
  },
  "language_info": {
   "codemirror_mode": {
    "name": "ipython",
    "version": 3
   },
   "file_extension": ".py",
   "mimetype": "text/x-python",
   "name": "python",
   "nbconvert_exporter": "python",
   "pygments_lexer": "ipython3",
   "version": "3.8.10"
  },
  "orig_nbformat": 4
 },
 "nbformat": 4,
 "nbformat_minor": 2
}
