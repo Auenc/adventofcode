{
 "cells": [
  {
   "cell_type": "code",
   "execution_count": 1,
   "metadata": {},
   "outputs": [],
   "source": [
    "from typing import List\n",
    "from typing import Tuple\n",
    "\n",
    "example_input: List[str] = [\n",
    "    \"00100\",\n",
    "    \"11110\",\n",
    "    \"10110\",\n",
    "    \"10111\",\n",
    "    \"10101\",\n",
    "    \"01111\",\n",
    "    \"00111\",\n",
    "    \"11100\",\n",
    "    \"10000\",\n",
    "    \"11001\",\n",
    "    \"00010\",\n",
    "    \"00010\",\n",
    "    \"01010\"\n",
    "]\n",
    "\n",
    "with open(\"day3.txt\", \"r\") as input_file:\n",
    "    input_raw = input_file.read()\n",
    "\n",
    "lines = input_raw.split(\"\\n\")"
   ]
  },
  {
   "cell_type": "code",
   "execution_count": 2,
   "metadata": {},
   "outputs": [],
   "source": [
    "def common_at_pos(list: List[str], pos: int) -> Tuple[int, int]:\n",
    "    \"Returns the Tuple (most common, least common)\"\n",
    "    one = 0\n",
    "    zero = 0\n",
    "    for x in list:\n",
    "        if x[pos] == \"1\":\n",
    "            one += 1\n",
    "        if x[pos] == \"0\":\n",
    "            zero += 1\n",
    "    if one == zero:\n",
    "        return (-1, -1)\n",
    "    if one > zero:\n",
    "        return (1, 0)\n",
    "    if zero > one:\n",
    "        return (0, 1)\n",
    "\n",
    "def most_common_at_pos(list: List[str], pos: int) -> int:\n",
    "    return common_at_pos(list, pos)[0]\n",
    "\n",
    "def least_common_at_pos(list: List[str], pos: int) -> int:\n",
    "    return common_at_pos(list, pos)[1]\n",
    "\n",
    "def calculate_gamma_rate(list: List[str], length: int) -> str:\n",
    "    gamma = \"\"\n",
    "    for n in range(length):\n",
    "        gamma += str(most_common_at_pos(list, n))\n",
    "    return gamma\n",
    "\n",
    "def calculate_epsilon_rate(list: List[str], length: int) -> str:\n",
    "    epsilon = \"\"\n",
    "    for n in range(length):\n",
    "        epsilon += str(least_common_at_pos(list, n))\n",
    "    return epsilon\n",
    "\n",
    "def bin_to_dec(b: str) -> int:\n",
    "    return int(b, 2)"
   ]
  },
  {
   "cell_type": "code",
   "execution_count": 3,
   "metadata": {},
   "outputs": [
    {
     "name": "stdout",
     "output_type": "stream",
     "text": [
      "Gamma:  2601\n",
      "Epsilon:  1494\n",
      "Power:  3885894\n"
     ]
    }
   ],
   "source": [
    "gamma_b = calculate_gamma_rate(lines, 12)\n",
    "epsilon_b = calculate_epsilon_rate(lines, 12)\n",
    "gamma = bin_to_dec(gamma_b)\n",
    "epsilon = bin_to_dec(epsilon_b)\n",
    "\n",
    "print(\"Gamma: \", gamma)\n",
    "print(\"Epsilon: \", epsilon)\n",
    "print(\"Power: \", gamma * epsilon)"
   ]
  },
  {
   "cell_type": "code",
   "execution_count": 19,
   "metadata": {},
   "outputs": [],
   "source": [
    "import enum\n",
    "\n",
    "# Enum describing preferred value (most-common, least-common)\n",
    "class Common(enum.Enum):\n",
    "    most = 0\n",
    "    least = 1\n",
    "\n",
    "def filter_by_bit_crit(list: List[str], preferred: int, pref_common: int, n=0) -> str:\n",
    "    if len(list) == 1:\n",
    "        return list[0]\n",
    "    common = common_at_pos(list, n)\n",
    "    num_to_keep = preferred\n",
    "    if common[pref_common] != -1:\n",
    "        num_to_keep = common[pref_common]\n",
    "    filtered = [x for x in list if int(x[n]) == num_to_keep]\n",
    "    return filter_by_bit_crit(filtered, preferred, pref_common, n+1)\n",
    "\n",
    "def calculate_oxygen_rating(list: List[str]) -> str:\n",
    "    return filter_by_bit_crit(list, 1, Common.most.value)\n",
    "\n",
    "def calculate_cscrub_rating(list: List[str]) -> str:\n",
    "    return filter_by_bit_crit(list, 0, Common.least.value)\n"
   ]
  },
  {
   "cell_type": "code",
   "execution_count": 20,
   "metadata": {},
   "outputs": [
    {
     "name": "stdout",
     "output_type": "stream",
     "text": [
      "Oxygen generator rating:  3775\n",
      "C02 scrubber rating:  1159\n",
      "Life support rating:  4375225\n"
     ]
    }
   ],
   "source": [
    "oxygen_gen_rating_b = calculate_oxygen_rating(lines)\n",
    "c02_scrub_rating_b = calculate_cscrub_rating(lines)\n",
    "\n",
    "oxygen_gen_rating = bin_to_dec(oxygen_gen_rating_b)\n",
    "c02_scrub_rating = bin_to_dec(c02_scrub_rating_b)\n",
    "\n",
    "print(\"Oxygen generator rating: \", oxygen_gen_rating)\n",
    "print(\"C02 scrubber rating: \", c02_scrub_rating)\n",
    "print(\"Life support rating: \", oxygen_gen_rating * c02_scrub_rating)"
   ]
  }
 ],
 "metadata": {
  "interpreter": {
   "hash": "4cb846fa0746565b63f59de2953b23d7ed3f732d135c4180a8d69bdcb9730423"
  },
  "kernelspec": {
   "display_name": "Python 3.8.10 64-bit ('base': conda)",
   "language": "python",
   "name": "python3"
  },
  "language_info": {
   "codemirror_mode": {
    "name": "ipython",
    "version": 3
   },
   "file_extension": ".py",
   "mimetype": "text/x-python",
   "name": "python",
   "nbconvert_exporter": "python",
   "pygments_lexer": "ipython3",
   "version": "3.8.10"
  },
  "orig_nbformat": 4
 },
 "nbformat": 4,
 "nbformat_minor": 2
}
