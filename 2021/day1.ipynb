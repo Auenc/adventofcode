{
 "cells": [
  {
   "cell_type": "code",
   "execution_count": 7,
   "metadata": {},
   "outputs": [],
   "source": [
    "with open(\"day1.txt\", \"r\") as input_file:\n",
    "    input_raw=input_file.read()\n",
    "\n",
    "input = input_raw.split('\\n')\n",
    "i = 0\n",
    "for x in input:\n",
    "    input[i] = int(x)\n",
    "    i += 1"
   ]
  },
  {
   "cell_type": "code",
   "execution_count": 8,
   "metadata": {},
   "outputs": [
    {
     "name": "stdout",
     "output_type": "stream",
     "text": [
      "1139\n"
     ]
    }
   ],
   "source": [
    "last = -1\n",
    "increases = 0\n",
    "for d in input:\n",
    "    if last == -1:\n",
    "        last = int(d)\n",
    "        continue\n",
    "    if d > last:\n",
    "        increases += 1\n",
    "    last = d\n",
    "\n",
    "print(increases)"
   ]
  },
  {
   "cell_type": "code",
   "execution_count": 9,
   "metadata": {},
   "outputs": [
    {
     "name": "stdout",
     "output_type": "stream",
     "text": [
      "1103\n"
     ]
    }
   ],
   "source": [
    "windows = []\n",
    "i = 0\n",
    "while i < len(input)-2:\n",
    "    window = [input[i], input[i+1], input[i+2]]\n",
    "    windows.append(window)\n",
    "    i += 1\n",
    "\n",
    "def sum_window(l):\n",
    "    total = 0\n",
    "    for x in l:\n",
    "        total += x\n",
    "    return total\n",
    "last = -1\n",
    "increases = 0\n",
    "for window in windows:\n",
    "    sum = sum_window(window)\n",
    "    if last == -1:\n",
    "        last = sum\n",
    "        continue\n",
    "    if sum > last:\n",
    "        increases += 1\n",
    "    last = sum\n",
    "\n",
    "print(increases)"
   ]
  }
 ],
 "metadata": {
  "interpreter": {
   "hash": "1b1b9cd09eb4182609114214260da895cbc5f91b3cb0faffa7a01c551aeb2a0f"
  },
  "kernelspec": {
   "display_name": "Python 3.8.3 64-bit ('base': conda)",
   "name": "python3"
  },
  "language_info": {
   "codemirror_mode": {
    "name": "ipython",
    "version": 3
   },
   "file_extension": ".py",
   "mimetype": "text/x-python",
   "name": "python",
   "nbconvert_exporter": "python",
   "pygments_lexer": "ipython3",
   "version": "3.8.3"
  },
  "orig_nbformat": 4
 },
 "nbformat": 4,
 "nbformat_minor": 2
}
